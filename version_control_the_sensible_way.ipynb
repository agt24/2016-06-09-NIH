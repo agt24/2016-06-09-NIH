{
 "cells": [
  {
   "cell_type": "code",
   "execution_count": 1,
   "metadata": {
    "collapsed": false
   },
   "outputs": [
    {
     "name": "stdout",
     "output_type": "stream",
     "text": []
    }
   ],
   "source": [
    "# git config --global user.name \"John Lee\""
   ]
  },
  {
   "cell_type": "code",
   "execution_count": 2,
   "metadata": {
    "collapsed": false
   },
   "outputs": [
    {
     "name": "stdout",
     "output_type": "stream",
     "text": []
    }
   ],
   "source": [
    "#git config --global user.email \"jlee@gmail.com\""
   ]
  },
  {
   "cell_type": "code",
   "execution_count": 3,
   "metadata": {
    "collapsed": false
   },
   "outputs": [
    {
     "name": "stdout",
     "output_type": "stream",
     "text": []
    }
   ],
   "source": [
    "# git config --global color.ui \"auto\""
   ]
  },
  {
   "cell_type": "code",
   "execution_count": 4,
   "metadata": {
    "collapsed": false
   },
   "outputs": [
    {
     "name": "stdout",
     "output_type": "stream",
     "text": []
    }
   ],
   "source": [
    "# git config --list"
   ]
  },
  {
   "cell_type": "code",
   "execution_count": 6,
   "metadata": {
    "collapsed": false
   },
   "outputs": [
    {
     "name": "stdout",
     "output_type": "stream",
     "text": []
    }
   ],
   "source": [
    "mkdir planets"
   ]
  },
  {
   "cell_type": "code",
   "execution_count": 7,
   "metadata": {
    "collapsed": false
   },
   "outputs": [
    {
     "name": "stdout",
     "output_type": "stream",
     "text": []
    }
   ],
   "source": [
    "cd planets"
   ]
  },
  {
   "cell_type": "code",
   "execution_count": 15,
   "metadata": {
    "collapsed": false
   },
   "outputs": [
    {
     "name": "stdout",
     "output_type": "stream",
     "text": [
      "Initialized empty Git repository in /Users/johnlee/planets/.git/\r\n"
     ]
    }
   ],
   "source": [
    "git init"
   ]
  },
  {
   "cell_type": "code",
   "execution_count": 9,
   "metadata": {
    "collapsed": false
   },
   "outputs": [
    {
     "name": "stdout",
     "output_type": "stream",
     "text": []
    }
   ],
   "source": [
    "echo \"mercury is not very pleasant\" > mercury.txt"
   ]
  },
  {
   "cell_type": "code",
   "execution_count": 10,
   "metadata": {
    "collapsed": false
   },
   "outputs": [
    {
     "name": "stdout",
     "output_type": "stream",
     "text": [
      "mercury.txt\r\n"
     ]
    }
   ],
   "source": [
    "ls "
   ]
  },
  {
   "cell_type": "code",
   "execution_count": 11,
   "metadata": {
    "collapsed": false
   },
   "outputs": [
    {
     "name": "stdout",
     "output_type": "stream",
     "text": [
      ".\t\t..\t\t.git\t\tmercury.txt\r\n"
     ]
    }
   ],
   "source": [
    "ls -a"
   ]
  },
  {
   "cell_type": "code",
   "execution_count": 12,
   "metadata": {
    "collapsed": false
   },
   "outputs": [
    {
     "name": "stdout",
     "output_type": "stream",
     "text": [
      "On branch master\r\n",
      "\r\n",
      "Initial commit\r\n",
      "\r\n",
      "Untracked files:\r\n",
      "  (use \"git add <file>...\" to include in what will be committed)\r\n",
      "\r\n",
      "\t\u001b[31mmercury.txt\u001b[m\r\n",
      "\r\n",
      "nothing added to commit but untracked files present (use \"git add\" to track)\r\n"
     ]
    }
   ],
   "source": [
    "git status"
   ]
  },
  {
   "cell_type": "code",
   "execution_count": 13,
   "metadata": {
    "collapsed": false
   },
   "outputs": [
    {
     "name": "stdout",
     "output_type": "stream",
     "text": []
    }
   ],
   "source": [
    "#rm -r .git\n",
    "# to \"uninitialise a git repository"
   ]
  },
  {
   "cell_type": "code",
   "execution_count": 16,
   "metadata": {
    "collapsed": false
   },
   "outputs": [
    {
     "name": "stdout",
     "output_type": "stream",
     "text": []
    }
   ],
   "source": [
    "git add mercury.txt"
   ]
  },
  {
   "cell_type": "code",
   "execution_count": 17,
   "metadata": {
    "collapsed": false
   },
   "outputs": [
    {
     "name": "stdout",
     "output_type": "stream",
     "text": [
      "On branch master\r\n",
      "\r\n",
      "Initial commit\r\n",
      "\r\n",
      "Changes to be committed:\r\n",
      "  (use \"git rm --cached <file>...\" to unstage)\r\n",
      "\r\n",
      "\t\u001b[32mnew file:   mercury.txt\u001b[m\r\n",
      "\r\n"
     ]
    }
   ],
   "source": [
    "git status"
   ]
  },
  {
   "cell_type": "code",
   "execution_count": 18,
   "metadata": {
    "collapsed": false
   },
   "outputs": [
    {
     "name": "stdout",
     "output_type": "stream",
     "text": [
      "[master (root-commit) 6ff38eb] add mercury discussion\r\n",
      " 1 file changed, 1 insertion(+)\r\n",
      " create mode 100644 mercury.txt\r\n"
     ]
    }
   ],
   "source": [
    "git commit -m \"add mercury discussion\""
   ]
  },
  {
   "cell_type": "code",
   "execution_count": 19,
   "metadata": {
    "collapsed": false
   },
   "outputs": [
    {
     "name": "stdout",
     "output_type": "stream",
     "text": [
      "On branch master\r\n",
      "nothing to commit, working directory clean\r\n"
     ]
    }
   ],
   "source": [
    "git status"
   ]
  },
  {
   "cell_type": "code",
   "execution_count": 24,
   "metadata": {
    "collapsed": false
   },
   "outputs": [
    {
     "name": "stdout",
     "output_type": "stream",
     "text": []
    }
   ],
   "source": [
    "echo \"an unpleasant planet\" > mercury.txt"
   ]
  },
  {
   "cell_type": "code",
   "execution_count": 25,
   "metadata": {
    "collapsed": false
   },
   "outputs": [
    {
     "name": "stdout",
     "output_type": "stream",
     "text": []
    }
   ],
   "source": [
    "git add mercury.txt"
   ]
  },
  {
   "cell_type": "code",
   "execution_count": 26,
   "metadata": {
    "collapsed": false
   },
   "outputs": [
    {
     "name": "stdout",
     "output_type": "stream",
     "text": [
      "[master eaa891e] another attempt at describing mercury\r\n",
      " 1 file changed, 1 insertion(+), 1 deletion(-)\r\n"
     ]
    }
   ],
   "source": [
    "git commit -m \"another attempt at describing mercury\""
   ]
  },
  {
   "cell_type": "code",
   "execution_count": 27,
   "metadata": {
    "collapsed": false
   },
   "outputs": [
    {
     "name": "stdout",
     "output_type": "stream",
     "text": [
      "\u001b[33mcommit eaa891e024f0b49309d39d5a3d7ca7bc0dd3a1a5\u001b[m\r\n",
      "Author: John Lee <johnlee3@gmail.com>\r\n",
      "Date:   Fri Jun 10 10:17:46 2016 -0400\r\n",
      "\r\n",
      "    another attempt at describing mercury\r\n"
     ]
    }
   ],
   "source": [
    "git log -n 1"
   ]
  },
  {
   "cell_type": "code",
   "execution_count": 33,
   "metadata": {
    "collapsed": false
   },
   "outputs": [
    {
     "name": "stdout",
     "output_type": "stream",
     "text": []
    }
   ],
   "source": [
    "echo \"you can jump three times as high\" > mars.txt"
   ]
  },
  {
   "cell_type": "code",
   "execution_count": 34,
   "metadata": {
    "collapsed": false
   },
   "outputs": [
    {
     "name": "stdout",
     "output_type": "stream",
     "text": []
    }
   ],
   "source": [
    "git add mars.txt"
   ]
  },
  {
   "cell_type": "code",
   "execution_count": 32,
   "metadata": {
    "collapsed": false
   },
   "outputs": [
    {
     "name": "stdout",
     "output_type": "stream",
     "text": [
      "\u001b[1mdiff --git a/mars.txt b/mars.txt\u001b[m\r\n",
      "\u001b[1mnew file mode 100644\u001b[m\r\n",
      "\u001b[1mindex 0000000..836a7b4\u001b[m\r\n",
      "\u001b[1m--- /dev/null\u001b[m\r\n",
      "\u001b[1m+++ b/mars.txt\u001b[m\r\n",
      "\u001b[36m@@ -0,0 +1 @@\u001b[m\r\n",
      "\u001b[32m+\u001b[m\u001b[32myou can jump three times as high\u001b[m\r\n"
     ]
    }
   ],
   "source": [
    "git diff --cached"
   ]
  },
  {
   "cell_type": "code",
   "execution_count": 35,
   "metadata": {
    "collapsed": false
   },
   "outputs": [
    {
     "name": "stdout",
     "output_type": "stream",
     "text": [
      "[master dcde54b] consider mars gravity\r\n",
      " 1 file changed, 1 insertion(+)\r\n",
      " create mode 100644 mars.txt\r\n"
     ]
    }
   ],
   "source": [
    "git commit -m \"consider mars gravity\""
   ]
  },
  {
   "cell_type": "code",
   "execution_count": 36,
   "metadata": {
    "collapsed": false
   },
   "outputs": [
    {
     "name": "stdout",
     "output_type": "stream",
     "text": []
    }
   ],
   "source": [
    "git diff --cached"
   ]
  },
  {
   "cell_type": "code",
   "execution_count": 37,
   "metadata": {
    "collapsed": false
   },
   "outputs": [
    {
     "name": "stdout",
     "output_type": "stream",
     "text": [
      "\u001b[33mcommit dcde54b2582628550379721c8c9a0ddd63e10db9\u001b[m\r\n",
      "Author: John Lee <johnlee3@gmail.com>\r\n",
      "Date:   Fri Jun 10 10:23:33 2016 -0400\r\n",
      "\r\n",
      "    consider mars gravity\r\n",
      "\r\n",
      "\u001b[33mcommit eaa891e024f0b49309d39d5a3d7ca7bc0dd3a1a5\u001b[m\r\n",
      "Author: John Lee <johnlee3@gmail.com>\r\n",
      "Date:   Fri Jun 10 10:17:46 2016 -0400\r\n",
      "\r\n",
      "    another attempt at describing mercury\r\n"
     ]
    }
   ],
   "source": [
    "git log -n 2"
   ]
  },
  {
   "cell_type": "code",
   "execution_count": 38,
   "metadata": {
    "collapsed": false
   },
   "outputs": [
    {
     "name": "stdout",
     "output_type": "stream",
     "text": [
      "You have new mail in /var/mail/johnlee\r\n"
     ]
    }
   ],
   "source": [
    "echo \"We know it has water, albeit in a frozen form\" >> mars.txt"
   ]
  },
  {
   "cell_type": "code",
   "execution_count": 39,
   "metadata": {
    "collapsed": false
   },
   "outputs": [
    {
     "name": "stdout",
     "output_type": "stream",
     "text": [
      "On branch master\r\n",
      "Changes not staged for commit:\r\n",
      "  (use \"git add <file>...\" to update what will be committed)\r\n",
      "  (use \"git checkout -- <file>...\" to discard changes in working directory)\r\n",
      "\r\n",
      "\t\u001b[31mmodified:   mars.txt\u001b[m\r\n",
      "\r\n",
      "no changes added to commit (use \"git add\" and/or \"git commit -a\")\r\n"
     ]
    }
   ],
   "source": [
    "git status"
   ]
  },
  {
   "cell_type": "code",
   "execution_count": 40,
   "metadata": {
    "collapsed": false
   },
   "outputs": [
    {
     "name": "stdout",
     "output_type": "stream",
     "text": []
    }
   ],
   "source": [
    "git add mars.txt"
   ]
  },
  {
   "cell_type": "code",
   "execution_count": 41,
   "metadata": {
    "collapsed": false
   },
   "outputs": [
    {
     "name": "stdout",
     "output_type": "stream",
     "text": [
      "[master 69b372f] describe the H2O situation\r\n",
      " 1 file changed, 1 insertion(+)\r\n"
     ]
    }
   ],
   "source": [
    "git commit -m \"describe the H2O situation\""
   ]
  },
  {
   "cell_type": "code",
   "execution_count": 42,
   "metadata": {
    "collapsed": false
   },
   "outputs": [
    {
     "name": "stdout",
     "output_type": "stream",
     "text": [
      "\u001b[33mcommit 69b372f031053fbab2f0c9069c2b69e821ae6f96\u001b[m\r\n",
      "Author: John Lee <johnlee3@gmail.com>\r\n",
      "Date:   Fri Jun 10 11:07:54 2016 -0400\r\n",
      "\r\n",
      "    describe the H2O situation\r\n",
      "\r\n",
      "\u001b[33mcommit dcde54b2582628550379721c8c9a0ddd63e10db9\u001b[m\r\n",
      "Author: John Lee <johnlee3@gmail.com>\r\n",
      "Date:   Fri Jun 10 10:23:33 2016 -0400\r\n",
      "\r\n",
      "    consider mars gravity\r\n",
      "\r\n",
      "\u001b[33mcommit eaa891e024f0b49309d39d5a3d7ca7bc0dd3a1a5\u001b[m\r\n",
      "Author: John Lee <johnlee3@gmail.com>\r\n",
      "Date:   Fri Jun 10 10:17:46 2016 -0400\r\n",
      "\r\n",
      "    another attempt at describing mercury\r\n"
     ]
    }
   ],
   "source": [
    "git log -n 3"
   ]
  },
  {
   "cell_type": "code",
   "execution_count": 43,
   "metadata": {
    "collapsed": false
   },
   "outputs": [
    {
     "name": "stdout",
     "output_type": "stream",
     "text": []
    }
   ],
   "source": [
    "git diff HEAD mars.txt"
   ]
  },
  {
   "cell_type": "code",
   "execution_count": 44,
   "metadata": {
    "collapsed": false
   },
   "outputs": [
    {
     "name": "stdout",
     "output_type": "stream",
     "text": [
      "\u001b[1mdiff --git a/mars.txt b/mars.txt\u001b[m\r\n",
      "\u001b[1mindex 836a7b4..9fb0e54 100644\u001b[m\r\n",
      "\u001b[1m--- a/mars.txt\u001b[m\r\n",
      "\u001b[1m+++ b/mars.txt\u001b[m\r\n",
      "\u001b[36m@@ -1 +1,2 @@\u001b[m\r\n",
      " you can jump three times as high\u001b[m\r\n",
      "\u001b[32m+\u001b[m\u001b[32mWe know it has water, albeit in a frozen form\u001b[m\r\n"
     ]
    }
   ],
   "source": [
    "git diff HEAD~1"
   ]
  },
  {
   "cell_type": "code",
   "execution_count": 45,
   "metadata": {
    "collapsed": false
   },
   "outputs": [
    {
     "name": "stdout",
     "output_type": "stream",
     "text": [
      "\u001b[1mdiff --git a/mars.txt b/mars.txt\u001b[m\r\n",
      "\u001b[1mnew file mode 100644\u001b[m\r\n",
      "\u001b[1mindex 0000000..9fb0e54\u001b[m\r\n",
      "\u001b[1m--- /dev/null\u001b[m\r\n",
      "\u001b[1m+++ b/mars.txt\u001b[m\r\n",
      "\u001b[36m@@ -0,0 +1,2 @@\u001b[m\r\n",
      "\u001b[32m+\u001b[m\u001b[32myou can jump three times as high\u001b[m\r\n",
      "\u001b[32m+\u001b[m\u001b[32mWe know it has water, albeit in a frozen form\u001b[m\r\n"
     ]
    }
   ],
   "source": [
    "git diff HEAD~2"
   ]
  },
  {
   "cell_type": "code",
   "execution_count": 46,
   "metadata": {
    "collapsed": false
   },
   "outputs": [
    {
     "name": "stdout",
     "output_type": "stream",
     "text": [
      "\u001b[33mcommit 69b372f031053fbab2f0c9069c2b69e821ae6f96\u001b[m\r\n",
      "Author: John Lee <johnlee3@gmail.com>\r\n",
      "Date:   Fri Jun 10 11:07:54 2016 -0400\r\n",
      "\r\n",
      "    describe the H2O situation\r\n",
      "\r\n",
      "\u001b[33mcommit dcde54b2582628550379721c8c9a0ddd63e10db9\u001b[m\r\n",
      "Author: John Lee <johnlee3@gmail.com>\r\n",
      "Date:   Fri Jun 10 10:23:33 2016 -0400\r\n",
      "\r\n",
      "    consider mars gravity\r\n",
      "\r\n",
      "\u001b[33mcommit eaa891e024f0b49309d39d5a3d7ca7bc0dd3a1a5\u001b[m\r\n",
      "Author: John Lee <johnlee3@gmail.com>\r\n",
      "Date:   Fri Jun 10 10:17:46 2016 -0400\r\n",
      "\r\n",
      "    another attempt at describing mercury\r\n"
     ]
    }
   ],
   "source": [
    "git log -n 3"
   ]
  },
  {
   "cell_type": "code",
   "execution_count": 50,
   "metadata": {
    "collapsed": false
   },
   "outputs": [
    {
     "name": "stdout",
     "output_type": "stream",
     "text": [
      "Note: checking out 'HEAD~2'.\r\n",
      "\r\n",
      "You are in 'detached HEAD' state. You can look around, make experimental\r\n",
      "changes and commit them, and you can discard any commits you make in this\r\n",
      "state without impacting any branches by performing another checkout.\r\n",
      "\r\n",
      "If you want to create a new branch to retain commits you create, you may\r\n",
      "do so (now or later) by using -b with the checkout command again. Example:\r\n",
      "\r\n",
      "  git checkout -b <new-branch-name>\r\n",
      "\r\n",
      "HEAD is now at dcde54b... consider mars gravity\r\n"
     ]
    }
   ],
   "source": [
    "git checkout HEAD~2"
   ]
  },
  {
   "cell_type": "code",
   "execution_count": 51,
   "metadata": {
    "collapsed": false
   },
   "outputs": [
    {
     "name": "stdout",
     "output_type": "stream",
     "text": [
      "Previous HEAD position was dcde54b... consider mars gravity\r\n",
      "Switched to branch 'master'\r\n"
     ]
    }
   ],
   "source": [
    "git checkout master"
   ]
  },
  {
   "cell_type": "code",
   "execution_count": 52,
   "metadata": {
    "collapsed": false
   },
   "outputs": [
    {
     "name": "stdout",
     "output_type": "stream",
     "text": [
      "mars.txt\tmercury.txt\r\n"
     ]
    }
   ],
   "source": [
    "ls "
   ]
  },
  {
   "cell_type": "code",
   "execution_count": 53,
   "metadata": {
    "collapsed": false
   },
   "outputs": [
    {
     "name": "stdout",
     "output_type": "stream",
     "text": [
      "Note: checking out 'HEAD~3'.\r\n",
      "\r\n",
      "You are in 'detached HEAD' state. You can look around, make experimental\r\n",
      "changes and commit them, and you can discard any commits you make in this\r\n",
      "state without impacting any branches by performing another checkout.\r\n",
      "\r\n",
      "If you want to create a new branch to retain commits you create, you may\r\n",
      "do so (now or later) by using -b with the checkout command again. Example:\r\n",
      "\r\n",
      "  git checkout -b <new-branch-name>\r\n",
      "\r\n",
      "HEAD is now at eaa891e... another attempt at describing mercury\r\n"
     ]
    }
   ],
   "source": [
    "git checkout HEAD~3"
   ]
  },
  {
   "cell_type": "code",
   "execution_count": 54,
   "metadata": {
    "collapsed": false
   },
   "outputs": [
    {
     "name": "stdout",
     "output_type": "stream",
     "text": [
      "mercury.txt\r\n"
     ]
    }
   ],
   "source": [
    "ls"
   ]
  },
  {
   "cell_type": "code",
   "execution_count": 55,
   "metadata": {
    "collapsed": false
   },
   "outputs": [
    {
     "name": "stdout",
     "output_type": "stream",
     "text": [
      "/Users/johnlee/planets\r\n"
     ]
    }
   ],
   "source": [
    "pwd"
   ]
  },
  {
   "cell_type": "code",
   "execution_count": 56,
   "metadata": {
    "collapsed": false
   },
   "outputs": [
    {
     "name": "stdout",
     "output_type": "stream",
     "text": [
      "Previous HEAD position was eaa891e... another attempt at describing mercury\r\n",
      "Switched to branch 'master'\r\n"
     ]
    }
   ],
   "source": [
    "git checkout master"
   ]
  },
  {
   "cell_type": "code",
   "execution_count": 57,
   "metadata": {
    "collapsed": false
   },
   "outputs": [
    {
     "name": "stdout",
     "output_type": "stream",
     "text": [
      "\u001b[33mcommit 25a7b4f468f6cc9840514d471471719884eed507\u001b[m\r\n",
      "Author: John Lee <johnlee3@gmail.com>\r\n",
      "Date:   Fri Jun 10 11:19:55 2016 -0400\r\n",
      "\r\n",
      "    add test commit in sublime\r\n",
      "\r\n",
      "\u001b[33mcommit 69b372f031053fbab2f0c9069c2b69e821ae6f96\u001b[m\r\n",
      "Author: John Lee <johnlee3@gmail.com>\r\n",
      "Date:   Fri Jun 10 11:07:54 2016 -0400\r\n",
      "\r\n",
      "    describe the H2O situation\r\n",
      "\r\n",
      "\u001b[33mcommit dcde54b2582628550379721c8c9a0ddd63e10db9\u001b[m\r\n",
      "Author: John Lee <johnlee3@gmail.com>\r\n",
      "Date:   Fri Jun 10 10:23:33 2016 -0400\r\n",
      "\r\n",
      "    consider mars gravity\r\n"
     ]
    }
   ],
   "source": [
    "git log -n 3"
   ]
  },
  {
   "cell_type": "code",
   "execution_count": 58,
   "metadata": {
    "collapsed": false
   },
   "outputs": [
    {
     "name": "stdout",
     "output_type": "stream",
     "text": [
      "mars.txt\tmercury.txt\r\n"
     ]
    }
   ],
   "source": [
    "ls"
   ]
  },
  {
   "cell_type": "code",
   "execution_count": 59,
   "metadata": {
    "collapsed": false
   },
   "outputs": [
    {
     "name": "stdout",
     "output_type": "stream",
     "text": [
      "On branch master\r\n",
      "nothing to commit, working directory clean\r\n"
     ]
    }
   ],
   "source": [
    "git status"
   ]
  },
  {
   "cell_type": "code",
   "execution_count": 60,
   "metadata": {
    "collapsed": false
   },
   "outputs": [
    {
     "name": "stdout",
     "output_type": "stream",
     "text": [
      "Note: checking out 'HEAD~3'.\r\n",
      "\r\n",
      "You are in 'detached HEAD' state. You can look around, make experimental\r\n",
      "changes and commit them, and you can discard any commits you make in this\r\n",
      "state without impacting any branches by performing another checkout.\r\n",
      "\r\n",
      "If you want to create a new branch to retain commits you create, you may\r\n",
      "do so (now or later) by using -b with the checkout command again. Example:\r\n",
      "\r\n",
      "  git checkout -b <new-branch-name>\r\n",
      "\r\n",
      "HEAD is now at eaa891e... another attempt at describing mercury\r\n"
     ]
    }
   ],
   "source": [
    "git checkout HEAD~3"
   ]
  },
  {
   "cell_type": "code",
   "execution_count": 61,
   "metadata": {
    "collapsed": false
   },
   "outputs": [
    {
     "name": "stdout",
     "output_type": "stream",
     "text": [
      "\u001b[33mcommit eaa891e024f0b49309d39d5a3d7ca7bc0dd3a1a5\u001b[m\r\n",
      "Author: John Lee <johnlee3@gmail.com>\r\n",
      "Date:   Fri Jun 10 10:17:46 2016 -0400\r\n",
      "\r\n",
      "    another attempt at describing mercury\r\n",
      "\r\n",
      "\u001b[33mcommit 6ff38eb4ddde1248b76681521024dc84042dd263\u001b[m\r\n",
      "Author: John Lee <johnlee3@gmail.com>\r\n",
      "Date:   Fri Jun 10 10:08:54 2016 -0400\r\n",
      "\r\n",
      "    add mercury discussion\r\n"
     ]
    }
   ],
   "source": [
    "git log "
   ]
  },
  {
   "cell_type": "code",
   "execution_count": 62,
   "metadata": {
    "collapsed": false
   },
   "outputs": [
    {
     "name": "stdout",
     "output_type": "stream",
     "text": [
      "Previous HEAD position was eaa891e... another attempt at describing mercury\r\n",
      "Switched to branch 'master'\r\n"
     ]
    }
   ],
   "source": [
    "git checkout master"
   ]
  },
  {
   "cell_type": "code",
   "execution_count": 63,
   "metadata": {
    "collapsed": false
   },
   "outputs": [
    {
     "name": "stdout",
     "output_type": "stream",
     "text": [
      "\u001b[1mdiff --git a/mars.txt b/mars.txt\u001b[m\r\n",
      "\u001b[1mnew file mode 100644\u001b[m\r\n",
      "\u001b[1mindex 0000000..9fb0e54\u001b[m\r\n",
      "\u001b[1m--- /dev/null\u001b[m\r\n",
      "\u001b[1m+++ b/mars.txt\u001b[m\r\n",
      "\u001b[36m@@ -0,0 +1,2 @@\u001b[m\r\n",
      "\u001b[32m+\u001b[m\u001b[32myou can jump three times as high\u001b[m\r\n",
      "\u001b[32m+\u001b[m\u001b[32mWe know it has water, albeit in a frozen form\u001b[m\r\n",
      "\u001b[1mdiff --git a/mercury.txt b/mercury.txt\u001b[m\r\n",
      "\u001b[1mindex 20564ee..c798c12 100644\u001b[m\r\n",
      "\u001b[1m--- a/mercury.txt\u001b[m\r\n",
      "\u001b[1m+++ b/mercury.txt\u001b[m\r\n",
      "\u001b[36m@@ -1 +1,2 @@\u001b[m\r\n",
      " an unpleasant planet\u001b[m\r\n",
      "\u001b[32m+\u001b[m\u001b[32mmore text\u001b[m\r\n"
     ]
    }
   ],
   "source": [
    "git diff HEAD~3"
   ]
  },
  {
   "cell_type": "code",
   "execution_count": 64,
   "metadata": {
    "collapsed": false
   },
   "outputs": [
    {
     "name": "stdout",
     "output_type": "stream",
     "text": []
    }
   ],
   "source": [
    "cd ~/planets"
   ]
  },
  {
   "cell_type": "code",
   "execution_count": 66,
   "metadata": {
    "collapsed": false
   },
   "outputs": [
    {
     "name": "stdout",
     "output_type": "stream",
     "text": [
      "fatal: remote origin already exists.\r\n"
     ]
    }
   ],
   "source": [
    "git remote add origin https://github.com/leej3/planets_on_github.git"
   ]
  },
  {
   "cell_type": "code",
   "execution_count": 67,
   "metadata": {
    "collapsed": false
   },
   "outputs": [
    {
     "name": "stdout",
     "output_type": "stream",
     "text": [
      "origin\thttps://github.com/leej3/planets_on_github.git (fetch)\r\n",
      "origin\thttps://github.com/leej3/planets_on_github.git (push)\r\n"
     ]
    }
   ],
   "source": [
    "git remote -v"
   ]
  },
  {
   "cell_type": "markdown",
   "metadata": {},
   "source": [
    "git pull origin master"
   ]
  },
  {
   "cell_type": "code",
   "execution_count": 69,
   "metadata": {
    "collapsed": false
   },
   "outputs": [
    {
     "name": "stdout",
     "output_type": "stream",
     "text": [
      "Counting objects: 17, done.\r\n",
      "Delta compression using up to 2 threads.\r\n",
      "Compressing objects:   9% (1/11)   \r",
      "Compressing objects:  18% (2/11)   \r",
      "Compressing objects:  27% (3/11)   \r",
      "Compressing objects:  36% (4/11)   \r",
      "Compressing objects:  45% (5/11)   \r",
      "Compressing objects:  54% (6/11)   \r",
      "Compressing objects:  63% (7/11)   \r",
      "Compressing objects:  72% (8/11)   \r",
      "Compressing objects:  81% (9/11)   \r",
      "Compressing objects:  90% (10/11)   \r",
      "Compressing objects: 100% (11/11)   \r",
      "Compressing objects: 100% (11/11), done.\r\n",
      "Writing objects:   5% (1/17)   \r",
      "Writing objects:  11% (2/17)   \r",
      "Writing objects:  17% (3/17)   \r",
      "Writing objects:  23% (4/17)   \r",
      "Writing objects:  29% (5/17)   \r",
      "Writing objects:  35% (6/17)   \r",
      "Writing objects:  41% (7/17)   \r",
      "Writing objects:  47% (8/17)   \r",
      "Writing objects:  52% (9/17)   \r",
      "Writing objects:  58% (10/17)   \r",
      "Writing objects:  64% (11/17)   \r",
      "Writing objects:  70% (12/17)   \r",
      "Writing objects:  76% (13/17)   \r",
      "Writing objects:  82% (14/17)   \r",
      "Writing objects:  88% (15/17)   \r",
      "Writing objects:  94% (16/17)   \r",
      "Writing objects: 100% (17/17)   \r",
      "Writing objects: 100% (17/17), 1.67 KiB | 0 bytes/s, done.\r\n",
      "Total 17 (delta 0), reused 0 (delta 0)\r\n",
      "To https://github.com/leej3/planets_on_github.git\r\n",
      "   7c11d36..da4c161  master -> master\r\n"
     ]
    }
   ],
   "source": [
    "git push origin master"
   ]
  },
  {
   "cell_type": "code",
   "execution_count": 70,
   "metadata": {
    "collapsed": false
   },
   "outputs": [
    {
     "name": "stdout",
     "output_type": "stream",
     "text": [
      "\r\n"
     ]
    }
   ],
   "source": [
    "cat"
   ]
  },
  {
   "cell_type": "code",
   "execution_count": 71,
   "metadata": {
    "collapsed": false
   },
   "outputs": [
    {
     "name": "stdout",
     "output_type": "stream",
     "text": [
      "README.md\tmars.txt\tmercury.txt\r\n"
     ]
    }
   ],
   "source": [
    "ls"
   ]
  },
  {
   "cell_type": "code",
   "execution_count": null,
   "metadata": {
    "collapsed": true
   },
   "outputs": [],
   "source": []
  },
  {
   "cell_type": "code",
   "execution_count": null,
   "metadata": {
    "collapsed": true
   },
   "outputs": [],
   "source": []
  },
  {
   "cell_type": "code",
   "execution_count": null,
   "metadata": {
    "collapsed": true
   },
   "outputs": [],
   "source": []
  },
  {
   "cell_type": "code",
   "execution_count": null,
   "metadata": {
    "collapsed": true
   },
   "outputs": [],
   "source": []
  },
  {
   "cell_type": "code",
   "execution_count": null,
   "metadata": {
    "collapsed": true
   },
   "outputs": [],
   "source": []
  },
  {
   "cell_type": "code",
   "execution_count": null,
   "metadata": {
    "collapsed": true
   },
   "outputs": [],
   "source": []
  }
 ],
 "metadata": {
  "kernelspec": {
   "display_name": "Bash",
   "language": "bash",
   "name": "bash"
  },
  "language_info": {
   "codemirror_mode": "shell",
   "file_extension": ".sh",
   "mimetype": "text/x-sh",
   "name": "bash"
  }
 },
 "nbformat": 4,
 "nbformat_minor": 0
}
